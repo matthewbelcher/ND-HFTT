{
 "cells": [
  {
   "cell_type": "code",
   "execution_count": null,
   "id": "f5c8a9df-c3ae-48ba-b27b-ebd8d5e3b7a5",
   "metadata": {},
   "outputs": [],
   "source": [
    "from itertools import islice\n",
    "import math\n",
    "\n",
    "import matplotlib.pyplot as plt\n",
    "import networkx as nx\n",
    "import pandas as pd"
   ]
  },
  {
   "cell_type": "code",
   "execution_count": null,
   "id": "89887e16-9367-4306-b13f-3c8eae4edb17",
   "metadata": {},
   "outputs": [],
   "source": [
    "# The path to a gzipped CSV containing forex data from Polygon.io.\n",
    "DATA_PATH = \"../../data/filtered/2025-01-01_filtered.csv\""
   ]
  },
  {
   "cell_type": "code",
   "execution_count": null,
   "id": "7de01e68-6e93-4b8a-97c1-4ca9b8e11772",
   "metadata": {},
   "outputs": [],
   "source": [
    "df = pd.read_csv(DATA_PATH)\n",
    "\n",
    "df"
   ]
  },
  {
   "cell_type": "code",
   "execution_count": null,
   "id": "e9239dbe-b5c3-4e6c-af0a-dc0e1c163980",
   "metadata": {},
   "outputs": [],
   "source": [
    "df.head(20)"
   ]
  },
  {
   "cell_type": "code",
   "execution_count": null,
   "id": "078cd445-4d9f-4158-af80-3fde86357976",
   "metadata": {},
   "outputs": [],
   "source": [
    "# Construct a directed, weighted graph in which the nodes\n",
    "# are currencies and the edge weights are exchange rates.\n",
    "\n",
    "N_TIMESTAMPS = 1\n",
    "\n",
    "graph = dict()\n",
    "\n",
    "grouped = df.groupby(\"participant_timestamp\")\n",
    "for timestamp, batch in islice(grouped, N_TIMESTAMPS):\n",
    "    for index, row in batch.iterrows():\n",
    "        currency1, currency2 = row[\"ticker\"][2:].split(\"-\")\n",
    "        bid_price = row[\"bid_price\"]\n",
    "    \n",
    "        if currency1 not in graph:\n",
    "            graph[currency1] = dict()\n",
    "        graph[currency1][currency2] = bid_price"
   ]
  },
  {
   "cell_type": "code",
   "execution_count": null,
   "id": "b9341172-2453-4937-aa0b-6c9056734dda",
   "metadata": {},
   "outputs": [],
   "source": [
    "# Visualize the forex graph.\n",
    "\n",
    "from math import log\n",
    "\n",
    "COI = []\n",
    "\n",
    "G = nx.DiGraph()\n",
    "\n",
    "for currency1, rates in graph.items():\n",
    "    for currency2, rate in rates.items():\n",
    "        if len(COI) == 0 or currency1 in COI and currency2 in COI:\n",
    "            G.add_edge(currency1, currency2, weight=rate)\n",
    "\n",
    "pos = nx.nx_pydot.graphviz_layout(G, prog=\"neato\")\n",
    "# pos = nx.circular_layout(G)\n",
    "edge_labels = nx.get_edge_attributes(G, \"weight\")\n",
    "\n",
    "plt.figure(figsize=(10, 5))\n",
    "# nx.draw(G, pos, with_labels=True, node_size=1000, node_color=\"#FF7777\")\n",
    "# nx.draw_networkx_edge_labels(G, pos, edge_labels=edge_labels)\n",
    "nx.draw(G, pos, with_labels=True, node_size=1000, node_color=\"#FF7777\", connectionstyle=\"arc3,rad=0.2\")\n",
    "# nx.draw_networkx_edges(G, pos, edgelist=[(\"SGD\", \"CHF\"), (\"CHF\", \"USD\"), (\"USD\", \"SGD\")], edge_color=\"red\", connectionstyle=\"arc3,rad=0.2\")\n",
    "nx.draw_networkx_edge_labels(G, pos, edge_labels=edge_labels, connectionstyle=\"arc3,rad=0.2\")\n",
    "\n",
    "plt.savefig(\"graph.png\", dpi=300)\n",
    "plt.show()"
   ]
  },
  {
   "cell_type": "code",
   "execution_count": null,
   "id": "f294ee9e-af59-40d2-ab69-1f75e8e75ea8",
   "metadata": {},
   "outputs": [],
   "source": []
  }
 ],
 "metadata": {
  "kernelspec": {
   "display_name": "Python 3 (ipykernel)",
   "language": "python",
   "name": "python3"
  },
  "language_info": {
   "codemirror_mode": {
    "name": "ipython",
    "version": 3
   },
   "file_extension": ".py",
   "mimetype": "text/x-python",
   "name": "python",
   "nbconvert_exporter": "python",
   "pygments_lexer": "ipython3",
   "version": "3.13.0"
  }
 },
 "nbformat": 4,
 "nbformat_minor": 5
}
